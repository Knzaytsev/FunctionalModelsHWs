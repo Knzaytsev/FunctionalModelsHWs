{
  "nbformat": 4,
  "nbformat_minor": 0,
  "metadata": {
    "colab": {
      "name": "Expressives.ipynb",
      "provenance": [],
      "collapsed_sections": []
    },
    "kernelspec": {
      "display_name": "Python 3",
      "name": "python3"
    },
    "language_info": {
      "name": "python"
    }
  },
  "cells": [
    {
      "cell_type": "markdown",
      "metadata": {
        "id": "yZdNpUWM7_Em"
      },
      "source": [
        "#Домашнее задание 1. Вариант 2\n",
        "\n",
        "\n",
        "\n"
      ]
    },
    {
      "cell_type": "code",
      "metadata": {
        "colab": {
          "base_uri": "https://localhost:8080/"
        },
        "id": "nv8_ZmO-o9k_",
        "outputId": "9046310e-d905-495e-8989-9ddb66bed317"
      },
      "source": [
        "# Загружаем датасет.\n",
        "!wget https://s3.amazonaws.com/amazon-reviews-pds/tsv/amazon_reviews_us_Wireless_v1_00.tsv.gz"
      ],
      "execution_count": null,
      "outputs": [
        {
          "output_type": "stream",
          "name": "stdout",
          "text": [
            "--2021-10-10 18:57:33--  https://s3.amazonaws.com/amazon-reviews-pds/tsv/amazon_reviews_us_Wireless_v1_00.tsv.gz\n",
            "Resolving s3.amazonaws.com (s3.amazonaws.com)... 52.217.167.112\n",
            "Connecting to s3.amazonaws.com (s3.amazonaws.com)|52.217.167.112|:443... connected.\n",
            "HTTP request sent, awaiting response... 200 OK\n",
            "Length: 1704713674 (1.6G) [application/x-gzip]\n",
            "Saving to: ‘amazon_reviews_us_Wireless_v1_00.tsv.gz’\n",
            "\n",
            "amazon_reviews_us_W 100%[===================>]   1.59G  82.6MB/s    in 22s     \n",
            "\n",
            "2021-10-10 18:57:56 (74.3 MB/s) - ‘amazon_reviews_us_Wireless_v1_00.tsv.gz’ saved [1704713674/1704713674]\n",
            "\n"
          ]
        }
      ]
    },
    {
      "cell_type": "code",
      "metadata": {
        "id": "iYtfq8Vap-dB"
      },
      "source": [
        "# Распаковываем.\n",
        "!gunzip amazon_reviews_us_Wireless_v1_00.tsv.gz"
      ],
      "execution_count": null,
      "outputs": []
    },
    {
      "cell_type": "code",
      "metadata": {
        "colab": {
          "base_uri": "https://localhost:8080/"
        },
        "id": "g_kfEnUNqWPh",
        "outputId": "54bf765b-547e-4601-b86a-0466b89e167e"
      },
      "source": [
        "# Читаем датасет.\n",
        "import pandas as pd\n",
        "\n",
        "df = pd.read_csv('amazon_reviews_us_Wireless_v1_00.tsv', sep='\\t', error_bad_lines=False, nrows=100000)"
      ],
      "execution_count": null,
      "outputs": [
        {
          "output_type": "stream",
          "name": "stderr",
          "text": [
            "b'Skipping line 51163: expected 15 fields, saw 22\\n'\n",
            "b'Skipping line 77018: expected 15 fields, saw 22\\nSkipping line 97528: expected 15 fields, saw 22\\n'\n"
          ]
        }
      ]
    },
    {
      "cell_type": "code",
      "metadata": {
        "colab": {
          "base_uri": "https://localhost:8080/",
          "height": 526
        },
        "id": "26etumthcgwv",
        "outputId": "ee48bc80-d475-4d91-ecc9-c7e0c215788f"
      },
      "source": [
        "df.head(5)"
      ],
      "execution_count": null,
      "outputs": [
        {
          "output_type": "execute_result",
          "data": {
            "text/html": [
              "<div>\n",
              "<style scoped>\n",
              "    .dataframe tbody tr th:only-of-type {\n",
              "        vertical-align: middle;\n",
              "    }\n",
              "\n",
              "    .dataframe tbody tr th {\n",
              "        vertical-align: top;\n",
              "    }\n",
              "\n",
              "    .dataframe thead th {\n",
              "        text-align: right;\n",
              "    }\n",
              "</style>\n",
              "<table border=\"1\" class=\"dataframe\">\n",
              "  <thead>\n",
              "    <tr style=\"text-align: right;\">\n",
              "      <th></th>\n",
              "      <th>marketplace</th>\n",
              "      <th>customer_id</th>\n",
              "      <th>review_id</th>\n",
              "      <th>product_id</th>\n",
              "      <th>product_parent</th>\n",
              "      <th>product_title</th>\n",
              "      <th>product_category</th>\n",
              "      <th>star_rating</th>\n",
              "      <th>helpful_votes</th>\n",
              "      <th>total_votes</th>\n",
              "      <th>vine</th>\n",
              "      <th>verified_purchase</th>\n",
              "      <th>review_headline</th>\n",
              "      <th>review_body</th>\n",
              "      <th>review_date</th>\n",
              "    </tr>\n",
              "  </thead>\n",
              "  <tbody>\n",
              "    <tr>\n",
              "      <th>0</th>\n",
              "      <td>US</td>\n",
              "      <td>16414143</td>\n",
              "      <td>R3W4P9UBGNGH1U</td>\n",
              "      <td>B00YL0EKWE</td>\n",
              "      <td>852431543</td>\n",
              "      <td>LG G4 Case Hard Transparent Slim Clear Cover f...</td>\n",
              "      <td>Wireless</td>\n",
              "      <td>2</td>\n",
              "      <td>1</td>\n",
              "      <td>3</td>\n",
              "      <td>N</td>\n",
              "      <td>Y</td>\n",
              "      <td>Looks good, functions meh</td>\n",
              "      <td>2 issues  -  Once I turned on the circle apps ...</td>\n",
              "      <td>2015-08-31</td>\n",
              "    </tr>\n",
              "    <tr>\n",
              "      <th>1</th>\n",
              "      <td>US</td>\n",
              "      <td>50800750</td>\n",
              "      <td>R15V54KBMTQWAY</td>\n",
              "      <td>B00XK95RPQ</td>\n",
              "      <td>516894650</td>\n",
              "      <td>Selfie Stick Fiblastiq&amp;trade; Extendable Wirel...</td>\n",
              "      <td>Wireless</td>\n",
              "      <td>4</td>\n",
              "      <td>0</td>\n",
              "      <td>0</td>\n",
              "      <td>N</td>\n",
              "      <td>N</td>\n",
              "      <td>A fun little gadget</td>\n",
              "      <td>I’m embarrassed to admit that until recently, ...</td>\n",
              "      <td>2015-08-31</td>\n",
              "    </tr>\n",
              "    <tr>\n",
              "      <th>2</th>\n",
              "      <td>US</td>\n",
              "      <td>15184378</td>\n",
              "      <td>RY8I449HNXSVF</td>\n",
              "      <td>B00SXRXUKO</td>\n",
              "      <td>984297154</td>\n",
              "      <td>Tribe AB40 Water Resistant Sports Armband with...</td>\n",
              "      <td>Wireless</td>\n",
              "      <td>5</td>\n",
              "      <td>0</td>\n",
              "      <td>0</td>\n",
              "      <td>N</td>\n",
              "      <td>Y</td>\n",
              "      <td>Five Stars</td>\n",
              "      <td>Fits iPhone 6 well</td>\n",
              "      <td>2015-08-31</td>\n",
              "    </tr>\n",
              "    <tr>\n",
              "      <th>3</th>\n",
              "      <td>US</td>\n",
              "      <td>10203548</td>\n",
              "      <td>R18TLJYCKJFLSR</td>\n",
              "      <td>B009V5X1CE</td>\n",
              "      <td>279912704</td>\n",
              "      <td>RAVPower® Element 10400mAh External Battery US...</td>\n",
              "      <td>Wireless</td>\n",
              "      <td>5</td>\n",
              "      <td>0</td>\n",
              "      <td>0</td>\n",
              "      <td>N</td>\n",
              "      <td>Y</td>\n",
              "      <td>Great charger</td>\n",
              "      <td>Great charger.  I easily get 3+ charges on a S...</td>\n",
              "      <td>2015-08-31</td>\n",
              "    </tr>\n",
              "    <tr>\n",
              "      <th>4</th>\n",
              "      <td>US</td>\n",
              "      <td>488280</td>\n",
              "      <td>R1NK26SWS53B8Q</td>\n",
              "      <td>B00D93OVF0</td>\n",
              "      <td>662791300</td>\n",
              "      <td>Fosmon Micro USB Value Pack Bundle for Samsung...</td>\n",
              "      <td>Wireless</td>\n",
              "      <td>5</td>\n",
              "      <td>0</td>\n",
              "      <td>0</td>\n",
              "      <td>N</td>\n",
              "      <td>Y</td>\n",
              "      <td>Five Stars</td>\n",
              "      <td>Great for the price :-)</td>\n",
              "      <td>2015-08-31</td>\n",
              "    </tr>\n",
              "  </tbody>\n",
              "</table>\n",
              "</div>"
            ],
            "text/plain": [
              "  marketplace  ...  review_date\n",
              "0          US  ...   2015-08-31\n",
              "1          US  ...   2015-08-31\n",
              "2          US  ...   2015-08-31\n",
              "3          US  ...   2015-08-31\n",
              "4          US  ...   2015-08-31\n",
              "\n",
              "[5 rows x 15 columns]"
            ]
          },
          "metadata": {},
          "execution_count": 4
        }
      ]
    },
    {
      "cell_type": "code",
      "metadata": {
        "colab": {
          "base_uri": "https://localhost:8080/"
        },
        "id": "cJ6O34xDrExM",
        "outputId": "2ffb971c-d3fe-4f9a-dad9-2f782bd84b04"
      },
      "source": [
        "# Используем библиотеки для токенизации и лемматизации.\n",
        "import nltk\n",
        "from nltk.stem import WordNetLemmatizer\n",
        "\n",
        "nltk.download('wordnet')\n",
        "nltk.download('punkt')"
      ],
      "execution_count": null,
      "outputs": [
        {
          "output_type": "stream",
          "name": "stdout",
          "text": [
            "[nltk_data] Downloading package wordnet to /root/nltk_data...\n",
            "[nltk_data]   Unzipping corpora/wordnet.zip.\n",
            "[nltk_data] Downloading package punkt to /root/nltk_data...\n",
            "[nltk_data]   Unzipping tokenizers/punkt.zip.\n"
          ]
        },
        {
          "output_type": "execute_result",
          "data": {
            "text/plain": [
              "True"
            ]
          },
          "metadata": {},
          "execution_count": 5
        }
      ]
    },
    {
      "cell_type": "code",
      "metadata": {
        "id": "HTC8hPUCtvfi"
      },
      "source": [
        "# Токенизируем и лемматизируем.\n",
        "\n",
        "lemmatizer = WordNetLemmatizer()\n",
        "\n",
        "df['review_body'] = df['review_body'].map(lambda x: \" \".join([lemmatizer.lemmatize(y) for y in nltk.word_tokenize(str(x).lower()) if y not in [',', '.', '!']]))"
      ],
      "execution_count": null,
      "outputs": []
    },
    {
      "cell_type": "markdown",
      "metadata": {
        "id": "lDL805IWAMRi"
      },
      "source": [
        "В качестве экспрессива я решил выбрать слово \"crap\", поскольку дальнейший датасет относится к технике, потому оно может часто фигурировать в отзывах.\n",
        "Скорее всего автор ревью заинтересован в том, чтобы на основе его отзыва сформировали мнение о том, покупать ли продукт или нет. По этой причине использование \"crap\" может в большинстве случаев однозначно определить, что покупать не стоит. Например, в ревью автор может сказать следующее: \"This phone is the crap so you shouldn't buy it.\"\n",
        "Также при отрицательном опыте покупки вероятнее всего покупатель всё-таки будет искреннен в своём использовании экспрессива.\n",
        "\n",
        "\n",
        "Я предполагаю, что экспрессив будет иметь J-образную отзеркаленную форму. Это так, поскольку логично предположить, что пользователи с хорошей техникой будут меньше всего использовать \"crap\", потому что она всё-таки работает. В отзывах на единицу наоборот как раз будет часто фигурировать данный экспрессив. Однако могут быть единичные случаи, когда \"crap\" будет использоваться в положительном контексте. Например, \"phone is good but micro is crap\", \"phone is better than previous crap\"."
      ]
    },
    {
      "cell_type": "code",
      "metadata": {
        "id": "hSK4YnMZ9-BR"
      },
      "source": [
        "# Экспрессив, на который будет опираться дальнейшее исследование.\n",
        "word = 'crap'"
      ],
      "execution_count": null,
      "outputs": []
    },
    {
      "cell_type": "code",
      "metadata": {
        "id": "4IizzUa19d_v"
      },
      "source": [
        "# Создание подкорпуса с исследуемым экспрессивом.\n",
        "sub_df = df.loc[df['review_body'].str.contains(word)]"
      ],
      "execution_count": null,
      "outputs": []
    },
    {
      "cell_type": "code",
      "metadata": {
        "id": "6dexwIqAwhBs"
      },
      "source": [
        "# Метод, подсчитывающий количество экспрессивов по рейтингу.\n",
        "def get_rating_count(rating, word, df):\n",
        "  return sum(df.loc[df['star_rating'] == rating]['review_body'].str.count(word))"
      ],
      "execution_count": null,
      "outputs": []
    },
    {
      "cell_type": "code",
      "metadata": {
        "id": "IlPzCUPWxhlj"
      },
      "source": [
        "# Метод, подсчитывающий количество токенов с указанной длиной n по рейтингу в подкорпусе.\n",
        "def get_count_ratings(rating, df, n):\n",
        "  return sum(list(map(lambda x: count_words_n_length(x, n), df.loc[df['star_rating'] == rating]['review_body'].str.split(' '))))"
      ],
      "execution_count": null,
      "outputs": []
    },
    {
      "cell_type": "code",
      "metadata": {
        "id": "NEK4N-Y-ZZI3"
      },
      "source": [
        "# Метод, подсчитывающий количество токенов.\n",
        "def count_words_n_length(sentence, n):\n",
        "  count = 0\n",
        "  for word in sentence:\n",
        "    if len(word) == n:\n",
        "      count += 1\n",
        "  return count"
      ],
      "execution_count": null,
      "outputs": []
    },
    {
      "cell_type": "code",
      "metadata": {
        "colab": {
          "base_uri": "https://localhost:8080/"
        },
        "id": "SO8uXM62w9qF",
        "outputId": "89a2d59d-f3a2-4dee-e7bd-a7d89b575bf1"
      },
      "source": [
        "import math\n",
        "\n",
        "log_odds = {}\n",
        "\n",
        "# Вычисление натуральных логарифмов по рейтингу.\n",
        "for i in range(1, 6):\n",
        "  countRx = get_rating_count(i, word, sub_df)\n",
        "  countR = get_count_ratings(i, df, len(word))\n",
        "  print(countR, ' ', countRx)\n",
        "\n",
        "  log_odds[i] = math.log(countRx / (countR - countRx))\n",
        "  print(f'Rating: {i}, log: {log_odds[i]}')"
      ],
      "execution_count": null,
      "outputs": [
        {
          "output_type": "stream",
          "name": "stdout",
          "text": [
            "95200   293\n",
            "Rating: 1, log: -5.780480134715264\n",
            "53572   38\n",
            "Rating: 2, log: -7.250486085322886\n",
            "72338   28\n",
            "Rating: 3, log: -7.856513200993794\n",
            "142226   43\n",
            "Rating: 4, log: -8.103670123581376\n",
            "401523   85\n",
            "Rating: 5, log: -8.460157123032955\n"
          ]
        }
      ]
    },
    {
      "cell_type": "code",
      "metadata": {
        "colab": {
          "base_uri": "https://localhost:8080/",
          "height": 265
        },
        "id": "C3xKVddsN7sN",
        "outputId": "86f64dff-9d15-4aa5-c7a0-06769c48721f"
      },
      "source": [
        "import numpy as np\n",
        "from sklearn.preprocessing import PolynomialFeatures\n",
        "from sklearn.pipeline import make_pipeline\n",
        "from sklearn.linear_model import LinearRegression\n",
        "import matplotlib.pyplot as plt\n",
        "from scipy.interpolate import make_interp_spline, BSpline\n",
        "\n",
        "# Формирование входных данных для регрессионной модели.\n",
        "x = list(range(1, 6))\n",
        "X = np.array(x).reshape(-1, 1)\n",
        "y = np.array(list(log_odds.values()))\n",
        "\n",
        "# Создание пайплайна для регрессии и обучение модели.\n",
        "polyreg = make_pipeline(PolynomialFeatures(degree=1), LinearRegression())\n",
        "polyreg.fit(X, y)\n",
        "\n",
        "xnew = np.linspace(1, 5, 500)  \n",
        "\n",
        "# Сглаживание полученной регрессионной модели.\n",
        "spl = make_interp_spline(x, polyreg.predict(X), k=2)\n",
        "power_smooth = spl(xnew)\n",
        "\n",
        "plt.figure()\n",
        "plt.scatter(x, y)\n",
        "plt.plot(xnew, power_smooth)\n",
        "\n",
        "# Создание пайплайна для регрессии с квадратичным полиномом и обучение модели.\n",
        "polyreg = make_pipeline(PolynomialFeatures(degree=2), LinearRegression())\n",
        "polyreg.fit(X, y)\n",
        "\n",
        "xnew = np.linspace(1, 5, 500)  \n",
        "\n",
        "# Сглаживание полученной регрессионной модели.\n",
        "spl = make_interp_spline(x, polyreg.predict(X), k=2)\n",
        "power_smooth = spl(xnew)\n",
        "\n",
        "plt.plot(xnew, power_smooth)\n",
        "\n",
        "plt.show()"
      ],
      "execution_count": null,
      "outputs": [
        {
          "output_type": "display_data",
          "data": {
            "image/png": "[encoded data removed]",
            "text/plain": [
              "<Figure size 432x288 with 1 Axes>"
            ]
          },
          "metadata": {
            "needs_background": "light"
          }
        }
      ]
    },
    {
      "cell_type": "markdown",
      "metadata": {
        "id": "IOCxK809BWeb"
      },
      "source": [
        "Квадратичная регрессия показывает наилучшим образом тенденцию, хотя и линейная регрессия также в целом выражает её. Другая ситуация была бы в том случае, когда точки располагались нелинейно, в таком случае линейная регрессия бы плохо описывала интенсивность.\n",
        "\n",
        "\n",
        "Как видно по графику, гипотеза подтвердилась. Профиль получился J-образный, но в другую сторону. По мере увеличения рейтинга интенсивность использования экспрессива \"crap\" уменьшается."
      ]
    },
    {
      "cell_type": "code",
      "metadata": {
        "colab": {
          "base_uri": "https://localhost:8080/"
        },
        "id": "bhhDbnZba7Ff",
        "outputId": "4411f039-8ef5-4ac0-b68a-14fc581feeb8"
      },
      "source": [
        "pd.set_option('display.max_colwidth', 165)\n",
        "\n",
        "# Смотрим содержание каждого комментария по рейтингу.\n",
        "for i in range(1, 6):\n",
        "  print('--------------------' + str(i) + ' star rating--------------------')\n",
        "  print(sub_df.loc[df['review_body'].str.contains(word)].loc[df['star_rating'] == i]['review_body'].head(10))"
      ],
      "execution_count": null,
      "outputs": [
        {
          "output_type": "stream",
          "name": "stdout",
          "text": [
            "--------------------1 star rating--------------------\n",
            "835                                                                                                                                                             chinese crap\n",
            "1255                                                                                                                                       piece of crap just for decoration\n",
            "1626    this shield is pretty crappy for the nexus took me awhile to get it installed then it doe n't cover much of the phone i ended up getting an intelliamor pro for t...\n",
            "1751    crap ... cheaply made ... .had scratch on it and it only cobers the back and side provides no protection for the screen like a case is suppose to do in fact it i...\n",
            "1769                                                                                                                                   blew in the first month complete crap\n",
            "1791                                           this thing crapped out really early and when i went to get my new one under warranty the website wa n't even there do n't buy\n",
            "1925    received item and what a piece of crap the image on the back is all blurry ... look like it wa poorly laser scanned on there or something the case doe not fit th...\n",
            "1966    absolute junk the gripper/jaw clip thing is loose and when it actually hold your phone it press into the volume key and mess with audio really crappy design and ...\n",
            "2819    do n't take a chance on this cheap piece of crap just fork over $ 50 for a microsoft charger this thing lasted a few day before cutting out completely and is not...\n",
            "2917    i bought two of these charger and both craped out in le than 2 month why is it so hard to get good charger ? i a waiting for an authorization to return them i wa...\n",
            "Name: review_body, dtype: object\n",
            "--------------------2 star rating--------------------\n",
            "1577     i 've had four pair the sound is excellent and they fit my ear ( few earbuds do ) the problem i 've had with every one is that despite all my best effort they al...\n",
            "7893     do n't waste your money buying this phone i could use the phone only a year it a total crap no signal at all i paid 165 dollar to fix broken screen 4 month later...\n",
            "8294                                                                crap two of the 3 cord stopped working within two week of use only good thing i can say is they ship fast\n",
            "8649                   it 's an okay phone it doe n't ring loud i constantly miss call the availability of storage is crappy would only recommend for a 1st phone for a child\n",
            "13804    this wa super easy to apply i loved it < br / > < br / > that being said after a week of it going from my back pant pocket to my purse ( i keep it in it own pock...\n",
            "17848    this wa the last commercial base station antenna that i 'll buy the assembly instruction are not great but tolerable my biggest problem though is the claim that ...\n",
            "22114    i wa very excited to this and had high hope it did everything it say it doe and i wa very happy with it i owned this adapter about 6 month rarely using it up unt...\n",
            "22863    update : < br / > i dropped this review down from 4 star to 1 star i had this case for about two week and my overall impression is that it is a nightmare to remo...\n",
            "23022    this case look really nice the wood grain is beautiful and the plastic side have a matte finish so it doe n't look cheap my only complaint on the look is that my...\n",
            "25376                                                                       umm all i have to say it 's a crappy case look somewhere else the stand broke off after a day ...\n",
            "Name: review_body, dtype: object\n",
            "--------------------3 star rating--------------------\n",
            "4070     this case ha done a great job protecting my phone i have had for a few month now and although it ha a few scrape my phone is still intact i wa impressed with the...\n",
            "7717     first of all i want to point out the following pro and con i actually bought mine from best buy because i wanted a decent dash-cam that i can return if i dislike...\n",
            "10100                                                                                                            i like the case but the belt clip is crap break super easily\n",
            "14301    the & # 34 ; no annoying error message & # 34 ; claim is a load of crap i got that error message the very first time i plugged this cord into my phone and a you ...\n",
            "18454         well the box is well built worth the 60.00 just for the box did n't last too long pyle of crap ... but box is worth the cost put a kicker compr and sound great\n",
            "22465    i give them 5 star a these are a pretty solid set of bud now i sweat a lot and i have been trying to find a set that actually hold up to the water resistant/proo...\n",
            "23855    8/28/2015- < br / > i 'm receiving this in the mail tomorrow a lot of people say they will update and then don't…i will this is my b4 review because i 'm really ...\n",
            "27985                                                                                my wife like it because she ordered it but since it 's painted it will scrape off easily\n",
            "31595    the shine itself is a great piece of gear it is the band that is the issue ( and misfit is aware and still sell it with the crappy band ) it is a rubber band and...\n",
            "38080    these were my 5th try at finding a good wireless solution for running i love these reception is good audio quality is good they do n't cut out very often ( or sc...\n",
            "Name: review_body, dtype: object\n",
            "--------------------4 star rating--------------------\n",
            "4162                                                                             can not beat the price though the screen is crap and the device can occasionally be sluggish\n",
            "5189     great case not so great screen protector i do n't like the included protector because it doe n't stay stuck to the screen so air pocket form and it ha a & # 34 ;...\n",
            "5664     work right charge every time for me the material and workmanship is crap the rubbber/foam that contact the phone doe n't hold up. < br / > one day just driving a...\n",
            "6046                                                   nice looking case hard but soft but the painting in the hard case start to scrape off a bit no big deal i love my case\n",
            "6260     purshased one today looking for a cheap but good looking phone just to see how those unlocked one work pro : price big screen kit kat work on tmobile h+ nice dow...\n",
            "6526     i like my new case from # ghostek it is pretty💣since lifeproof wan na bullcrap on making a fr & egrave ; for the 6 plus i 'm not fond of their nu & uacute ; d ca...\n",
            "13254    protects very well i have repeatedly dropped my telephone with no problem whatsoever with crack or scrape the coloring is true to the picture the only reason it ...\n",
            "15743    a many have pointed out this unit ha some shortcoming but keep in mind you can not compare this low cost unit with a unit costing much much more personally i thi...\n",
            "17767    it 's def far better than the cheap crap you can found online much more sturdy but you fit much in it that is if you put a card in every pocket you wo n't be abl...\n",
            "17886    this is my first time buying a portable phone charger i bought this based off of the review on amazon. < br / > < br / > i have n't had any trouble with this dev...\n",
            "Name: review_body, dtype: object\n",
            "--------------------5 star rating--------------------\n",
            "1406     this is a very nice case for my iphone 6. the phone fit nice and snug and i do not have to worry about it falling out the case doe a great job at protecting the ...\n",
            "1853     i 've had this watch for a little over a month now and let me say this thing is awesome android wear allows me to easily view my notification and respond to text...\n",
            "3153     power power power this sum it up it provides all the power for my phone ( nexus 5 and oneplus one ) how much power ? 2.1 amp per usb plug none of this b 2.1 amp ...\n",
            "3983                                                                                           it 's great the windshield mount kept popping off and scary the crap out of me\n",
            "5658                                     great case after spending over $ 20 for a crappy spigen case this is much better and look cool too i will buy another one for myself\n",
            "7069     i love uag case had one for the s5 and now this one certainly my favorite it 's protective but not a safe like an otterbox it 's stylish if you like the & # 34 ;...\n",
            "8519     this phone ha lasted me for over a year and ha maintained it 's speed and responsiveness it even got the lollipop upgrade after which everything worked perfect. ...\n",
            "9070     alright so i eceived this sample from maxboost for my unbiased opinion and here it goes. < br / > when it first came in i wa extremely skeptical but let me say t...\n",
            "10457    i 've put several screen protector on cell phone over the year and none have turned out well except these so far this screen cover is taking a licking and is pro...\n",
            "10989    love this case the look is classy and elegant albeit bulkier than i like and doe the job well i constantly get compliment of this case it 's unique other than th...\n",
            "Name: review_body, dtype: object\n"
          ]
        }
      ]
    },
    {
      "cell_type": "code",
      "metadata": {
        "id": "z345TVo53rMi"
      },
      "source": [
        "def get_avg_words_per_rating(rating, df):\n",
        "  return sum(list(map(lambda x: len(x), df.loc[df['star_rating'] == rating]['review_body'].str.split(' ')))) / len(df.loc[df['star_rating'] == rating])"
      ],
      "execution_count": null,
      "outputs": []
    },
    {
      "cell_type": "code",
      "metadata": {
        "colab": {
          "base_uri": "https://localhost:8080/"
        },
        "id": "TrguY0GM4Av_",
        "outputId": "8134cf16-563e-4e66-b68d-5da177189413"
      },
      "source": [
        "# Смотрим среднее количество слов в отзыве по каждому рейтингу.\n",
        "for i in range(1, 6):\n",
        "  avg = get_avg_words_per_rating(i, sub_df)\n",
        "  print(f\"Avg words per {i} star is {avg}\")"
      ],
      "execution_count": null,
      "outputs": [
        {
          "output_type": "stream",
          "name": "stdout",
          "text": [
            "Avg words per 1 star is 54.40425531914894\n",
            "Avg words per 2 star is 99.44736842105263\n",
            "Avg words per 3 star is 318.7916666666667\n",
            "Avg words per 4 star is 258.15\n",
            "Avg words per 5 star is 112.09638554216868\n"
          ]
        }
      ]
    },
    {
      "cell_type": "markdown",
      "metadata": {
        "id": "I8s9doYvmui9"
      },
      "source": [
        "Среди интересных находок при исследовании корпуса нашлось то, что некоторые люди ставят оценку 5 баллов даже при том условии, что у техники не всё отлично. Пример такого отзыва:\n",
        "good mic but the battery not worth a crap.\n",
        "\n",
        "Также нейтральные отзывы (рейтинг 3 или 4) в среднем имеют больше слов, чем отзывы с другими рейтингами. Вероятно, в нейтральных обзорах стараются более объективно подойти к покупке. В положительных или негативных отзывах вероятнее используют чаще экспрессивы, поскольку они ёмко характеризуют вещь."
      ]
    }
  ]
}